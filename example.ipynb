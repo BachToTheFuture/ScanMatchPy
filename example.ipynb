{
 "cells": [
  {
   "cell_type": "code",
   "execution_count": 2,
   "metadata": {},
   "outputs": [],
   "source": [
    "from __future__ import print_function\n",
    "import numpy as np\n",
    "import ScanMatchPy\n",
    "import matlab"
   ]
  },
  {
   "cell_type": "code",
   "execution_count": 19,
   "metadata": {},
   "outputs": [],
   "source": [
    "my_ScanMatchPy = ScanMatchPy.initialize()\n",
    "\n",
    "seq1 = matlab.int32(np.random.randint(0, 350, size=(3, 7, 2)).tolist()) # eye saccades of 3 sets length 7\n",
    "seq2 = matlab.int32(np.random.randint(0, 350, size=(3, 7, 2)).tolist()) # eye saccades of 3 sets length 7\n",
    "I_seq1 = matlab.int32(7*np.ones((7, 1), dtype=np.int32).tolist()) # fixation at which you find the target or stop looking\n",
    "I_seq2 = matlab.int32(7*np.ones((7, 1), dtype=np.int32).tolist()) # fixation at which you find the target or stop looking"
   ]
  },
  {
   "cell_type": "code",
   "execution_count": 20,
   "metadata": {},
   "outputs": [
    {
     "name": "stdout",
     "output_type": "stream",
     "text": [
      "0.38360609952384955\n"
     ]
    }
   ],
   "source": [
    "print(my_ScanMatchPy.findScore(seq1, seq2, I_seq1, I_seq2))"
   ]
  },
  {
   "cell_type": "code",
   "execution_count": 21,
   "metadata": {},
   "outputs": [],
   "source": [
    "my_ScanMatchPy.terminate()"
   ]
  }
 ],
 "metadata": {
  "kernelspec": {
   "display_name": "Python 3",
   "language": "python",
   "name": "python3"
  },
  "language_info": {
   "codemirror_mode": {
    "name": "ipython",
    "version": 3
   },
   "file_extension": ".py",
   "mimetype": "text/x-python",
   "name": "python",
   "nbconvert_exporter": "python",
   "pygments_lexer": "ipython3",
   "version": "3.7.5"
  }
 },
 "nbformat": 4,
 "nbformat_minor": 2
}
